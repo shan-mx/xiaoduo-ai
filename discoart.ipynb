{
  "cells": [
    {
      "cell_type": "markdown",
      "id": "fb0e6cf9",
      "metadata": {
        "id": "fb0e6cf9"
      },
      "source": [
        "<img src=\"https://github.com/jina-ai/discoart/blob/main/.github/banner.png?raw=true\" alt=\"Create Disco Diffusion artworks in one-line\">\n",
        "<p align=center>\n",
        "<a href=\"https://pypi.org/project/discoart/\"><img src=\"https://img.shields.io/pypi/v/discoart?style=flat-square&amp;label=Release\" alt=\"PyPI\"></a>\n",
        "<a href=\"https://slack.jina.ai\"><img src=\"https://img.shields.io/badge/Slack-3.1k-blueviolet?logo=slack&amp;logoColor=white&style=flat-square\"></a>\n",
        "<a href=\"https://colab.research.google.com/github/jina-ai/dalle-flow/blob/main/client.ipynb\"><img src=\"https://img.shields.io/badge/Open-in%20Colab-brightgreen?logo=google-colab&style=flat-square\" alt=\"Open in Google Colab\"/></a>\n",
        "</p>\n",
        "\n",
        "😎 **If you are already a DD user**: you are ready to go! There is no extra learning, DiscoArt respects the same parameter semantics as DD5.2. So just unleash your creativity!\n",
        "\n",
        "There are some minor differences between DiscoArt and DD5.x:\n",
        "  - DiscoArt does not support video generation and `image_prompt` (which was marked as ineffective in DD 5.2).\n",
        "  - Due to no video support, `text_prompts` in DiscoArt accepts a string or a list of strings, not a dictionary; i.e. no frame index `0:` or `100:`.\n",
        "  - `clip_models` accepts a list of values chosen from `ViT-B/32`, `ViT-B/16`, `ViT-L/14`, `RN101`, `RN50`, `RN50x4`, `RN50x16`, `RN50x64`. Slightly different in names vs. DD5.2. \n",
        "\n",
        "👶 **If you are a [DALL·E Flow](https://github.com/jina-ai/dalle-flow/) user**: you may want to take step by step, as Disco Diffusion works in a very different way than DALL·E. It is much more advanced and powerful: e.g. Disco Diffusion can take weighted & structured text prompts; it can initialize from a image with controlled noise; and there are way more parameters one can tweak. Impatient prompt like `\"armchair avocado\"` will give you nothing but confusion and frustration. I highly recommend you to check out the following resources before trying your own prompt:\n",
        "- [Zippy's Disco Diffusion Cheatsheet v0.3](https://docs.google.com/document/d/1l8s7uS2dGqjztYSjPpzlmXLjl5PM3IGkRWI3IiCuK7g/mobilebasic)\n",
        "- [EZ Charts - Diffusion Parameter Studies](https://docs.google.com/document/d/1ORymHm0Te18qKiHnhcdgGp-WSt8ZkLZvow3raiu2DVU/edit#)\n",
        "- [Disco Diffusion 70+ Artist Studies](https://weirdwonderfulai.art/resources/disco-diffusion-70-plus-artist-studies/)\n",
        "- [A Traveler’s Guide to the Latent Space](https://sweet-hall-e72.notion.site/A-Traveler-s-Guide-to-the-Latent-Space-85efba7e5e6a40e5bd3cae980f30235f#e122e748b86e4fc0ad6a7a50e46d6e10)\n",
        "\n",
        "# Install"
      ]
    },
    {
      "cell_type": "code",
      "execution_count": 2,
      "id": "648b25f1",
      "metadata": {
        "pycharm": {
          "name": "#%%\n"
        },
        "id": "648b25f1",
        "outputId": "c9c19681-1665-4a82-8b39-252ff03838bd",
        "colab": {
          "base_uri": "https://localhost:8080/"
        }
      },
      "outputs": [
        {
          "output_type": "stream",
          "name": "stdout",
          "text": [
            "Looking in indexes: https://pypi.org/simple, https://us-python.pkg.dev/colab-wheels/public/simple/\n",
            "Collecting discoart\n",
            "  Downloading discoart-0.0.18.tar.gz (36 kB)\n",
            "Requirement already satisfied: numpy in /usr/local/lib/python3.7/dist-packages (from discoart) (1.21.6)\n",
            "Collecting lpips\n",
            "  Downloading lpips-0.1.4-py3-none-any.whl (53 kB)\n",
            "\u001b[K     |████████████████████████████████| 53 kB 2.0 MB/s \n",
            "\u001b[?25hCollecting ftfy\n",
            "  Downloading ftfy-6.1.1-py3-none-any.whl (53 kB)\n",
            "\u001b[K     |████████████████████████████████| 53 kB 1.9 MB/s \n",
            "\u001b[?25hCollecting docarray[common]>=0.13.29\n",
            "  Downloading docarray-0.13.29.tar.gz (631 kB)\n",
            "\u001b[K     |████████████████████████████████| 631 kB 59.1 MB/s \n",
            "\u001b[?25hRequirement already satisfied: pyyaml in /usr/local/lib/python3.7/dist-packages (from discoart) (3.13)\n",
            "Collecting rich>=12.0.0\n",
            "  Downloading rich-12.4.4-py3-none-any.whl (232 kB)\n",
            "\u001b[K     |████████████████████████████████| 232 kB 57.7 MB/s \n",
            "\u001b[?25hRequirement already satisfied: protobuf<=3.20.1,>=3.13.0 in /usr/local/lib/python3.7/dist-packages (from docarray[common]>=0.13.29->discoart) (3.17.3)\n",
            "Collecting lz4\n",
            "  Downloading lz4-4.0.1-cp37-cp37m-manylinux_2_17_x86_64.manylinux2014_x86_64.whl (1.2 MB)\n",
            "\u001b[K     |████████████████████████████████| 1.2 MB 59.4 MB/s \n",
            "\u001b[?25hRequirement already satisfied: requests in /usr/local/lib/python3.7/dist-packages (from docarray[common]>=0.13.29->discoart) (2.23.0)\n",
            "Requirement already satisfied: matplotlib in /usr/local/lib/python3.7/dist-packages (from docarray[common]>=0.13.29->discoart) (3.2.2)\n",
            "Requirement already satisfied: Pillow in /usr/local/lib/python3.7/dist-packages (from docarray[common]>=0.13.29->discoart) (7.1.2)\n",
            "Collecting fastapi\n",
            "  Downloading fastapi-0.78.0-py3-none-any.whl (54 kB)\n",
            "\u001b[K     |████████████████████████████████| 54 kB 3.4 MB/s \n",
            "\u001b[?25hCollecting uvicorn\n",
            "  Downloading uvicorn-0.18.2-py3-none-any.whl (57 kB)\n",
            "\u001b[K     |████████████████████████████████| 57 kB 4.8 MB/s \n",
            "\u001b[?25hRequirement already satisfied: six>=1.9 in /usr/local/lib/python3.7/dist-packages (from protobuf<=3.20.1,>=3.13.0->docarray[common]>=0.13.29->discoart) (1.15.0)\n",
            "Collecting commonmark<0.10.0,>=0.9.0\n",
            "  Downloading commonmark-0.9.1-py2.py3-none-any.whl (51 kB)\n",
            "\u001b[K     |████████████████████████████████| 51 kB 7.1 MB/s \n",
            "\u001b[?25hRequirement already satisfied: typing-extensions<5.0,>=4.0.0 in /usr/local/lib/python3.7/dist-packages (from rich>=12.0.0->docarray[common]>=0.13.29->discoart) (4.1.1)\n",
            "Requirement already satisfied: pygments<3.0.0,>=2.6.0 in /usr/local/lib/python3.7/dist-packages (from rich>=12.0.0->docarray[common]>=0.13.29->discoart) (2.6.1)\n",
            "Collecting starlette==0.19.1\n",
            "  Downloading starlette-0.19.1-py3-none-any.whl (63 kB)\n",
            "\u001b[K     |████████████████████████████████| 63 kB 2.0 MB/s \n",
            "\u001b[?25hRequirement already satisfied: pydantic!=1.7,!=1.7.1,!=1.7.2,!=1.7.3,!=1.8,!=1.8.1,<2.0.0,>=1.6.2 in /usr/local/lib/python3.7/dist-packages (from fastapi->docarray[common]>=0.13.29->discoart) (1.8.2)\n",
            "Collecting anyio<5,>=3.4.0\n",
            "  Downloading anyio-3.6.1-py3-none-any.whl (80 kB)\n",
            "\u001b[K     |████████████████████████████████| 80 kB 10.2 MB/s \n",
            "\u001b[?25hCollecting sniffio>=1.1\n",
            "  Downloading sniffio-1.2.0-py3-none-any.whl (10 kB)\n",
            "Requirement already satisfied: idna>=2.8 in /usr/local/lib/python3.7/dist-packages (from anyio<5,>=3.4.0->starlette==0.19.1->fastapi->docarray[common]>=0.13.29->discoart) (2.10)\n",
            "Requirement already satisfied: wcwidth>=0.2.5 in /usr/local/lib/python3.7/dist-packages (from ftfy->discoart) (0.2.5)\n",
            "Requirement already satisfied: torchvision>=0.2.1 in /usr/local/lib/python3.7/dist-packages (from lpips->discoart) (0.12.0+cu113)\n",
            "Requirement already satisfied: tqdm>=4.28.1 in /usr/local/lib/python3.7/dist-packages (from lpips->discoart) (4.64.0)\n",
            "Requirement already satisfied: torch>=0.4.0 in /usr/local/lib/python3.7/dist-packages (from lpips->discoart) (1.11.0+cu113)\n",
            "Requirement already satisfied: scipy>=1.0.1 in /usr/local/lib/python3.7/dist-packages (from lpips->discoart) (1.4.1)\n",
            "Requirement already satisfied: pyparsing!=2.0.4,!=2.1.2,!=2.1.6,>=2.0.1 in /usr/local/lib/python3.7/dist-packages (from matplotlib->docarray[common]>=0.13.29->discoart) (3.0.9)\n",
            "Requirement already satisfied: cycler>=0.10 in /usr/local/lib/python3.7/dist-packages (from matplotlib->docarray[common]>=0.13.29->discoart) (0.11.0)\n",
            "Requirement already satisfied: python-dateutil>=2.1 in /usr/local/lib/python3.7/dist-packages (from matplotlib->docarray[common]>=0.13.29->discoart) (2.8.2)\n",
            "Requirement already satisfied: kiwisolver>=1.0.1 in /usr/local/lib/python3.7/dist-packages (from matplotlib->docarray[common]>=0.13.29->discoart) (1.4.3)\n",
            "Requirement already satisfied: certifi>=2017.4.17 in /usr/local/lib/python3.7/dist-packages (from requests->docarray[common]>=0.13.29->discoart) (2022.6.15)\n",
            "Requirement already satisfied: urllib3!=1.25.0,!=1.25.1,<1.26,>=1.21.1 in /usr/local/lib/python3.7/dist-packages (from requests->docarray[common]>=0.13.29->discoart) (1.24.3)\n",
            "Requirement already satisfied: chardet<4,>=3.0.2 in /usr/local/lib/python3.7/dist-packages (from requests->docarray[common]>=0.13.29->discoart) (3.0.4)\n",
            "Requirement already satisfied: click>=7.0 in /usr/local/lib/python3.7/dist-packages (from uvicorn->docarray[common]>=0.13.29->discoart) (7.1.2)\n",
            "Collecting h11>=0.8\n",
            "  Downloading h11-0.13.0-py3-none-any.whl (58 kB)\n",
            "\u001b[K     |████████████████████████████████| 58 kB 6.3 MB/s \n",
            "\u001b[?25hBuilding wheels for collected packages: discoart, docarray\n",
            "  Building wheel for discoart (setup.py) ... \u001b[?25l\u001b[?25hdone\n",
            "  Created wheel for discoart: filename=discoart-0.0.18-py3-none-any.whl size=34202 sha256=905c9448ff0738e90687afc706c38cc10380dd240cf8af0a90a40b44aff2bcbd\n",
            "  Stored in directory: /root/.cache/pip/wheels/23/c6/94/da1b2237d65959d065cabbe6fa437c2f5716c738527bc7514a\n",
            "  Building wheel for docarray (setup.py) ... \u001b[?25l\u001b[?25hdone\n",
            "  Created wheel for docarray: filename=docarray-0.13.29-py3-none-any.whl size=675881 sha256=4eceb4e301679e3bab7f8af93fe71d50b5e7d96c7235f41c101ef527c1ef96ad\n",
            "  Stored in directory: /root/.cache/pip/wheels/07/41/81/1189444edea3ef0677de039604e6d72d81d3607983a5f7ec3d\n",
            "Successfully built discoart docarray\n",
            "Installing collected packages: sniffio, commonmark, anyio, starlette, rich, h11, uvicorn, lz4, fastapi, docarray, lpips, ftfy, discoart\n",
            "Successfully installed anyio-3.6.1 commonmark-0.9.1 discoart-0.0.18 docarray-0.13.29 fastapi-0.78.0 ftfy-6.1.1 h11-0.13.0 lpips-0.1.4 lz4-4.0.1 rich-12.4.4 sniffio-1.2.0 starlette-0.19.1 uvicorn-0.18.2\n"
          ]
        }
      ],
      "source": [
        "!pip install -U discoart"
      ]
    },
    {
      "cell_type": "markdown",
      "id": "ec9518fd",
      "metadata": {
        "id": "ec9518fd"
      },
      "source": [
        "# Create artworks"
      ]
    },
    {
      "cell_type": "code",
      "execution_count": 1,
      "id": "406a8000",
      "metadata": {
        "id": "406a8000",
        "outputId": "c471caf5-9fca-4be1-b2f7-5fa0d37ac900",
        "colab": {
          "base_uri": "https://localhost:8080/",
          "height": 361
        }
      },
      "outputs": [
        {
          "output_type": "error",
          "ename": "ModuleNotFoundError",
          "evalue": "ignored",
          "traceback": [
            "\u001b[0;31m---------------------------------------------------------------------------\u001b[0m",
            "\u001b[0;31mModuleNotFoundError\u001b[0m                       Traceback (most recent call last)",
            "\u001b[0;32m<ipython-input-1-7bd72f09bce1>\u001b[0m in \u001b[0;36m<module>\u001b[0;34m()\u001b[0m\n\u001b[0;32m----> 1\u001b[0;31m \u001b[0;32mfrom\u001b[0m \u001b[0mdiscoart\u001b[0m \u001b[0;32mimport\u001b[0m \u001b[0mcreate\u001b[0m\u001b[0;34m\u001b[0m\u001b[0;34m\u001b[0m\u001b[0m\n\u001b[0m\u001b[1;32m      2\u001b[0m \u001b[0;34m\u001b[0m\u001b[0m\n\u001b[1;32m      3\u001b[0m create(text_prompts=' a painting of a future robot guard standing in urban downtown by Maoxuan, unreal engine, star wars', \n\u001b[1;32m      4\u001b[0m        steps=300, skip_steps=30, n_batches=1)\n",
            "\u001b[0;31mModuleNotFoundError\u001b[0m: No module named 'discoart'",
            "",
            "\u001b[0;31m---------------------------------------------------------------------------\u001b[0;32m\nNOTE: If your import is failing due to a missing package, you can\nmanually install dependencies using either !pip or !apt.\n\nTo view examples of installing some common dependencies, click the\n\"Open Examples\" button below.\n\u001b[0;31m---------------------------------------------------------------------------\u001b[0m\n"
          ],
          "errorDetails": {
            "actions": [
              {
                "action": "open_url",
                "actionText": "Open Examples",
                "url": "/notebooks/snippets/importing_libraries.ipynb"
              }
            ]
          }
        }
      ],
      "source": [
        "from discoart import create\n",
        "\n",
        "create(text_prompts=' a painting of a future robot guard standing in urban downtown by Maoxuan, unreal engine, star wars', \n",
        "       steps=300, skip_steps=30, n_batches=1)"
      ]
    },
    {
      "cell_type": "markdown",
      "id": "5d677e95",
      "metadata": {
        "id": "5d677e95"
      },
      "source": [
        "# Pull results\n",
        "\n",
        "At anytime on any machine, you can pull the real-time results (including paramters, intermedidate diffusion steps, final results) with a session ID:\n",
        "\n",
        "> Please replace `discoart-3205998582` to your own when you run the above 2 cells!"
      ]
    },
    {
      "cell_type": "code",
      "execution_count": null,
      "id": "e569788a",
      "metadata": {
        "id": "e569788a"
      },
      "outputs": [],
      "source": [
        "from docarray import DocumentArray\n",
        "\n",
        "da = DocumentArray.pull('discoart-3205998582')"
      ]
    },
    {
      "cell_type": "markdown",
      "id": "bba7dc6c",
      "metadata": {
        "id": "bba7dc6c"
      },
      "source": [
        "## Plot all final results"
      ]
    },
    {
      "cell_type": "code",
      "execution_count": null,
      "id": "9367dbd9",
      "metadata": {
        "pycharm": {
          "name": "#%%\n"
        },
        "id": "9367dbd9"
      },
      "outputs": [],
      "source": [
        "da.plot_image_sprites(skip_empty=True, show_index=True, keep_aspect_ratio=True)"
      ]
    },
    {
      "cell_type": "markdown",
      "id": "4ed2fa55",
      "metadata": {
        "pycharm": {
          "name": "#%% md\n"
        },
        "id": "4ed2fa55"
      },
      "source": [
        "## Plot the final results of run `0`"
      ]
    },
    {
      "cell_type": "code",
      "execution_count": null,
      "id": "e17bf399",
      "metadata": {
        "pycharm": {
          "name": "#%%\n"
        },
        "id": "e17bf399"
      },
      "outputs": [],
      "source": [
        "da[0].display()"
      ]
    },
    {
      "cell_type": "markdown",
      "id": "827bf55f",
      "metadata": {
        "pycharm": {
          "name": "#%% md\n"
        },
        "id": "827bf55f"
      },
      "source": [
        "\n",
        "\n",
        "## Plot all intermediate results of the run `0`"
      ]
    },
    {
      "cell_type": "code",
      "execution_count": null,
      "id": "8ce5af75",
      "metadata": {
        "pycharm": {
          "name": "#%%\n"
        },
        "id": "8ce5af75"
      },
      "outputs": [],
      "source": [
        "da[0].chunks.plot_image_sprites(skip_empty=True, show_index=True, keep_aspect_ratio=True)"
      ]
    },
    {
      "cell_type": "markdown",
      "id": "7231c588",
      "metadata": {
        "id": "7231c588"
      },
      "source": [
        "## Get the parameters of run `0`"
      ]
    },
    {
      "cell_type": "code",
      "execution_count": null,
      "id": "e4a553eb",
      "metadata": {
        "id": "e4a553eb"
      },
      "outputs": [],
      "source": [
        "da[0].tags"
      ]
    }
  ],
  "metadata": {
    "kernelspec": {
      "display_name": "Python 3 (ipykernel)",
      "language": "python",
      "name": "python3"
    },
    "language_info": {
      "codemirror_mode": {
        "name": "ipython",
        "version": 3
      },
      "file_extension": ".py",
      "mimetype": "text/x-python",
      "name": "python",
      "nbconvert_exporter": "python",
      "pygments_lexer": "ipython3",
      "version": "3.7.9"
    },
    "colab": {
      "name": "discoart.ipynb",
      "provenance": []
    },
    "accelerator": "GPU",
    "gpuClass": "standard"
  },
  "nbformat": 4,
  "nbformat_minor": 5
}